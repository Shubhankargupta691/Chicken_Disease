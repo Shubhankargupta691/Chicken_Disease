{
 "cells": [
  {
   "cell_type": "code",
   "execution_count": 1,
   "metadata": {},
   "outputs": [],
   "source": [
    "import os"
   ]
  },
  {
   "cell_type": "code",
   "execution_count": 3,
   "metadata": {},
   "outputs": [
    {
     "data": {
      "text/plain": [
       "'d:\\\\DataScience\\\\DataScience Project\\\\Chicken Disease Classification\\\\Chicken_Disease_Classification\\\\research'"
      ]
     },
     "execution_count": 3,
     "metadata": {},
     "output_type": "execute_result"
    }
   ],
   "source": [
    "%pwd"
   ]
  },
  {
   "cell_type": "code",
   "execution_count": 4,
   "metadata": {},
   "outputs": [],
   "source": [
    "os.chdir('../')"
   ]
  },
  {
   "cell_type": "code",
   "execution_count": 5,
   "metadata": {},
   "outputs": [
    {
     "data": {
      "text/plain": [
       "'d:\\\\DataScience\\\\DataScience Project\\\\Chicken Disease Classification\\\\Chicken_Disease_Classification'"
      ]
     },
     "execution_count": 5,
     "metadata": {},
     "output_type": "execute_result"
    }
   ],
   "source": [
    "%pwd"
   ]
  },
  {
   "cell_type": "code",
   "execution_count": 6,
   "metadata": {},
   "outputs": [],
   "source": [
    "from dataclasses import dataclass\n",
    "from pathlib import Path\n",
    "\n",
    "@dataclass(frozen=True)\n",
    "class PrepareCallbacksConfig:\n",
    "    root_dir: Path\n",
    "    tensorflow_root_log_dir: Path\n",
    "    checkpoint_model_filepath: Path"
   ]
  },
  {
   "cell_type": "code",
   "execution_count": 7,
   "metadata": {},
   "outputs": [],
   "source": [
    "from Chicken_Disease_Classification.constants import *\n",
    "from Chicken_Disease_Classification.utils.common import read_yaml, create_directories"
   ]
  },
  {
   "cell_type": "code",
   "execution_count": 8,
   "metadata": {},
   "outputs": [],
   "source": [
    "class ConfigurationManager:\n",
    "    def __init__(\n",
    "        self, \n",
    "        config_filepath = CONFIG_FILE_PATH,\n",
    "        params_filepath = PARAMS_FILE_PATH):\n",
    "        self.config = read_yaml(config_filepath)\n",
    "        self.params = read_yaml(params_filepath)\n",
    "        create_directories([self.config.artifacts_root])\n",
    "\n",
    "\n",
    "    \n",
    "    def get_prepare_callback_config(self) -> PrepareCallbacksConfig:\n",
    "        config = self.config.prepare_callbacks\n",
    "        model_ckpt_dir = os.path.dirname(config.checkpoint_model_filepath)\n",
    "        create_directories([\n",
    "            Path(model_ckpt_dir),\n",
    "            Path(config.tensorboard_root_log_dir)\n",
    "        ])\n",
    "\n",
    "        prepare_callback_config = PrepareCallbacksConfig(\n",
    "            root_dir=Path(config.root_dir),\n",
    "            tensorboard_root_log_dir=Path(config.tensorboard_root_log_dir),\n",
    "            checkpoint_model_filepath=Path(config.checkpoint_model_filepath)\n",
    "        )\n",
    "\n",
    "        return prepare_callback_config"
   ]
  },
  {
   "cell_type": "code",
   "execution_count": 9,
   "metadata": {},
   "outputs": [],
   "source": [
    "import os\n",
    "import urllib.request as request\n",
    "from zipfile import ZipFile\n",
    "import tensorflow as tf\n",
    "import time"
   ]
  },
  {
   "cell_type": "code",
   "execution_count": 10,
   "metadata": {},
   "outputs": [],
   "source": [
    "class PrepareCallback:\n",
    "    def __init__(self, config: PrepareCallbacksConfig):\n",
    "        self.config = config\n",
    "\n",
    "    @property\n",
    "    def _create_tb_callbacks(self):\n",
    "        timestamp = time.strftime(\"%Y-%m-%d-%H-%M-%S\")\n",
    "        tb_running_log_dir = os.path.join(\n",
    "            self.config.tensorboard_root_log_dir,\n",
    "            f\"tb_logs_at_{timestamp}\",\n",
    "        )\n",
    "        return tf.keras.callbacks.TensorBoard(log_dir=tb_running_log_dir)\n",
    "    \n",
    "\n",
    "    @property\n",
    "    def _create_ckpt_callbacks(self):\n",
    "        return tf.keras.callbacks.ModelCheckpoint(\n",
    "            filepath=self.config.checkpoint_model_filepath,\n",
    "            save_best_only=True\n",
    "        )\n",
    "\n",
    "\n",
    "    def get_tb_ckpt_callbacks(self):\n",
    "        return [\n",
    "            self._create_tb_callbacks,\n",
    "            self._create_ckpt_callbacks\n",
    "        ]"
   ]
  },
  {
   "cell_type": "code",
   "execution_count": 14,
   "metadata": {},
   "outputs": [
    {
     "name": "stdout",
     "output_type": "stream",
     "text": [
      "[2023-09-30 14:59:58,535: INFO: common: yaml file: config\\config.yaml loaded successfully]\n",
      "[2023-09-30 14:59:58,538: INFO: common: yaml file: params.yaml loaded successfully]\n",
      "[2023-09-30 14:59:58,542: INFO: common: created directory at: artifacts]\n",
      "[2023-09-30 14:59:58,544: INFO: common: created directory at: artifacts\\prepare_callbacks\\checkpoint_dir]\n",
      "[2023-09-30 14:59:58,546: INFO: common: created directory at: artifacts\\prepare_callbacks\\tensorboard_log_dir]\n"
     ]
    },
    {
     "ename": "TypeError",
     "evalue": "PrepareCallbacksConfig.__init__() got an unexpected keyword argument 'tensorboard_root_log_dir'",
     "output_type": "error",
     "traceback": [
      "\u001b[1;31m---------------------------------------------------------------------------\u001b[0m",
      "\u001b[1;31mTypeError\u001b[0m                                 Traceback (most recent call last)",
      "\u001b[1;32md:\\DataScience\\DataScience Project\\Chicken Disease Classification\\Chicken_Disease_Classification\\research\\03_prepare_callbacks.ipynb Cell 10\u001b[0m line \u001b[0;36m8\n\u001b[0;32m      <a href='vscode-notebook-cell:/d%3A/DataScience/DataScience%20Project/Chicken%20Disease%20Classification/Chicken_Disease_Classification/research/03_prepare_callbacks.ipynb#X12sZmlsZQ%3D%3D?line=4'>5</a>\u001b[0m     callback_list \u001b[39m=\u001b[39m prepare_callbacks\u001b[39m.\u001b[39mget_tb_ckpt_callbacks()\n\u001b[0;32m      <a href='vscode-notebook-cell:/d%3A/DataScience/DataScience%20Project/Chicken%20Disease%20Classification/Chicken_Disease_Classification/research/03_prepare_callbacks.ipynb#X12sZmlsZQ%3D%3D?line=6'>7</a>\u001b[0m \u001b[39mexcept\u001b[39;00m \u001b[39mException\u001b[39;00m \u001b[39mas\u001b[39;00m e:\n\u001b[1;32m----> <a href='vscode-notebook-cell:/d%3A/DataScience/DataScience%20Project/Chicken%20Disease%20Classification/Chicken_Disease_Classification/research/03_prepare_callbacks.ipynb#X12sZmlsZQ%3D%3D?line=7'>8</a>\u001b[0m     \u001b[39mraise\u001b[39;00m e\n",
      "\u001b[1;32md:\\DataScience\\DataScience Project\\Chicken Disease Classification\\Chicken_Disease_Classification\\research\\03_prepare_callbacks.ipynb Cell 10\u001b[0m line \u001b[0;36m3\n\u001b[0;32m      <a href='vscode-notebook-cell:/d%3A/DataScience/DataScience%20Project/Chicken%20Disease%20Classification/Chicken_Disease_Classification/research/03_prepare_callbacks.ipynb#X12sZmlsZQ%3D%3D?line=0'>1</a>\u001b[0m \u001b[39mtry\u001b[39;00m:\n\u001b[0;32m      <a href='vscode-notebook-cell:/d%3A/DataScience/DataScience%20Project/Chicken%20Disease%20Classification/Chicken_Disease_Classification/research/03_prepare_callbacks.ipynb#X12sZmlsZQ%3D%3D?line=1'>2</a>\u001b[0m     config \u001b[39m=\u001b[39m ConfigurationManager()\n\u001b[1;32m----> <a href='vscode-notebook-cell:/d%3A/DataScience/DataScience%20Project/Chicken%20Disease%20Classification/Chicken_Disease_Classification/research/03_prepare_callbacks.ipynb#X12sZmlsZQ%3D%3D?line=2'>3</a>\u001b[0m     prepare_callbacks_config \u001b[39m=\u001b[39m config\u001b[39m.\u001b[39;49mget_prepare_callback_config()\n\u001b[0;32m      <a href='vscode-notebook-cell:/d%3A/DataScience/DataScience%20Project/Chicken%20Disease%20Classification/Chicken_Disease_Classification/research/03_prepare_callbacks.ipynb#X12sZmlsZQ%3D%3D?line=3'>4</a>\u001b[0m     prepare_callbacks \u001b[39m=\u001b[39m PrepareCallback(config\u001b[39m=\u001b[39mprepare_callbacks_config)\n\u001b[0;32m      <a href='vscode-notebook-cell:/d%3A/DataScience/DataScience%20Project/Chicken%20Disease%20Classification/Chicken_Disease_Classification/research/03_prepare_callbacks.ipynb#X12sZmlsZQ%3D%3D?line=4'>5</a>\u001b[0m     callback_list \u001b[39m=\u001b[39m prepare_callbacks\u001b[39m.\u001b[39mget_tb_ckpt_callbacks()\n",
      "\u001b[1;32md:\\DataScience\\DataScience Project\\Chicken Disease Classification\\Chicken_Disease_Classification\\research\\03_prepare_callbacks.ipynb Cell 10\u001b[0m line \u001b[0;36m2\n\u001b[0;32m     <a href='vscode-notebook-cell:/d%3A/DataScience/DataScience%20Project/Chicken%20Disease%20Classification/Chicken_Disease_Classification/research/03_prepare_callbacks.ipynb#X12sZmlsZQ%3D%3D?line=13'>14</a>\u001b[0m model_ckpt_dir \u001b[39m=\u001b[39m os\u001b[39m.\u001b[39mpath\u001b[39m.\u001b[39mdirname(config\u001b[39m.\u001b[39mcheckpoint_model_filepath)\n\u001b[0;32m     <a href='vscode-notebook-cell:/d%3A/DataScience/DataScience%20Project/Chicken%20Disease%20Classification/Chicken_Disease_Classification/research/03_prepare_callbacks.ipynb#X12sZmlsZQ%3D%3D?line=14'>15</a>\u001b[0m create_directories([\n\u001b[0;32m     <a href='vscode-notebook-cell:/d%3A/DataScience/DataScience%20Project/Chicken%20Disease%20Classification/Chicken_Disease_Classification/research/03_prepare_callbacks.ipynb#X12sZmlsZQ%3D%3D?line=15'>16</a>\u001b[0m     Path(model_ckpt_dir),\n\u001b[0;32m     <a href='vscode-notebook-cell:/d%3A/DataScience/DataScience%20Project/Chicken%20Disease%20Classification/Chicken_Disease_Classification/research/03_prepare_callbacks.ipynb#X12sZmlsZQ%3D%3D?line=16'>17</a>\u001b[0m     Path(config\u001b[39m.\u001b[39mtensorboard_root_log_dir)\n\u001b[0;32m     <a href='vscode-notebook-cell:/d%3A/DataScience/DataScience%20Project/Chicken%20Disease%20Classification/Chicken_Disease_Classification/research/03_prepare_callbacks.ipynb#X12sZmlsZQ%3D%3D?line=17'>18</a>\u001b[0m ])\n\u001b[1;32m---> <a href='vscode-notebook-cell:/d%3A/DataScience/DataScience%20Project/Chicken%20Disease%20Classification/Chicken_Disease_Classification/research/03_prepare_callbacks.ipynb#X12sZmlsZQ%3D%3D?line=19'>20</a>\u001b[0m prepare_callback_config \u001b[39m=\u001b[39m PrepareCallbacksConfig(\n\u001b[0;32m     <a href='vscode-notebook-cell:/d%3A/DataScience/DataScience%20Project/Chicken%20Disease%20Classification/Chicken_Disease_Classification/research/03_prepare_callbacks.ipynb#X12sZmlsZQ%3D%3D?line=20'>21</a>\u001b[0m     root_dir\u001b[39m=\u001b[39;49mPath(config\u001b[39m.\u001b[39;49mroot_dir),\n\u001b[0;32m     <a href='vscode-notebook-cell:/d%3A/DataScience/DataScience%20Project/Chicken%20Disease%20Classification/Chicken_Disease_Classification/research/03_prepare_callbacks.ipynb#X12sZmlsZQ%3D%3D?line=21'>22</a>\u001b[0m     tensorboard_root_log_dir\u001b[39m=\u001b[39;49mPath(config\u001b[39m.\u001b[39;49mtensorboard_root_log_dir),\n\u001b[0;32m     <a href='vscode-notebook-cell:/d%3A/DataScience/DataScience%20Project/Chicken%20Disease%20Classification/Chicken_Disease_Classification/research/03_prepare_callbacks.ipynb#X12sZmlsZQ%3D%3D?line=22'>23</a>\u001b[0m     checkpoint_model_filepath\u001b[39m=\u001b[39;49mPath(config\u001b[39m.\u001b[39;49mcheckpoint_model_filepath)\n\u001b[0;32m     <a href='vscode-notebook-cell:/d%3A/DataScience/DataScience%20Project/Chicken%20Disease%20Classification/Chicken_Disease_Classification/research/03_prepare_callbacks.ipynb#X12sZmlsZQ%3D%3D?line=23'>24</a>\u001b[0m )\n\u001b[0;32m     <a href='vscode-notebook-cell:/d%3A/DataScience/DataScience%20Project/Chicken%20Disease%20Classification/Chicken_Disease_Classification/research/03_prepare_callbacks.ipynb#X12sZmlsZQ%3D%3D?line=25'>26</a>\u001b[0m \u001b[39mreturn\u001b[39;00m prepare_callback_config\n",
      "\u001b[1;31mTypeError\u001b[0m: PrepareCallbacksConfig.__init__() got an unexpected keyword argument 'tensorboard_root_log_dir'"
     ]
    }
   ],
   "source": [
    "try:\n",
    "    config = ConfigurationManager()\n",
    "    prepare_callbacks_config = config.get_prepare_callback_config()\n",
    "    prepare_callbacks = PrepareCallback(config=prepare_callbacks_config)\n",
    "    callback_list = prepare_callbacks.get_tb_ckpt_callbacks()\n",
    "    \n",
    "except Exception as e:\n",
    "    raise e"
   ]
  },
  {
   "cell_type": "code",
   "execution_count": 13,
   "metadata": {},
   "outputs": [
    {
     "data": {
      "text/plain": [
       "'tb_logs_at_2023-09-30-14-59-56'"
      ]
     },
     "execution_count": 13,
     "metadata": {},
     "output_type": "execute_result"
    }
   ],
   "source": [
    "import time\n",
    "timestamp = time.strftime(\"%Y-%m-%d-%H-%M-%S\")\n",
    "f\"tb_logs_at_{timestamp}\""
   ]
  }
 ],
 "metadata": {
  "kernelspec": {
   "display_name": "Python 3 (ipykernel)",
   "language": "python",
   "name": "python3"
  },
  "language_info": {
   "codemirror_mode": {
    "name": "ipython",
    "version": 3
   },
   "file_extension": ".py",
   "mimetype": "text/x-python",
   "name": "python",
   "nbconvert_exporter": "python",
   "pygments_lexer": "ipython3",
   "version": "3.11.5"
  }
 },
 "nbformat": 4,
 "nbformat_minor": 2
}
